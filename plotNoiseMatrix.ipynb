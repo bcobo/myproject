{
 "cells": [
  {
   "cell_type": "markdown",
   "id": "b158514e-ea50-47e8-af56-b89741e55b39",
   "metadata": {},
   "source": [
    "# Plot noise matrix calculated as pulse-template (COVARM colum)"
   ]
  },
  {
   "cell_type": "markdown",
   "id": "33c16ffa",
   "metadata": {
    "papermill": {
     "duration": 0.052857,
     "end_time": "2023-07-14T08:31:38.247405",
     "exception": false,
     "start_time": "2023-07-14T08:31:38.194548",
     "status": "completed"
    },
    "tags": []
   },
   "source": [
    "# Imports and definitions"
   ]
  },
  {
   "cell_type": "code",
   "execution_count": 1,
   "id": "b36f6fbb",
   "metadata": {
    "papermill": {
     "duration": 2.127502,
     "end_time": "2023-07-14T08:31:40.451776",
     "exception": false,
     "start_time": "2023-07-14T08:31:38.324274",
     "status": "completed"
    },
    "tags": []
   },
   "outputs": [],
   "source": [
    "import os\n",
    "import tempfile\n",
    "import shlex\n",
    "\n",
    "from subprocess import check_call, STDOUT\n",
    "\n",
    "from astropy.io import fits\n",
    "from astropy.table import Table\n",
    "\n",
    "import matplotlib.pyplot as plt\n",
    "import numpy as np\n",
    "\n",
    "import math\n",
    "\n",
    "#from IPython import get_ipython\n",
    "#get_ipython().run_line_magic('matplotlib', 'notebook')\n",
    "#%matplotlib notebook\n",
    "\n",
    "#import ipywidgets as widgets\n",
    "#%matplotlib widget\n",
    "\n",
    "#%matplotlib inline\n",
    "\n",
    "#%matplotlib ipympl\n",
    "\n",
    "'''import errno\n",
    "import sys\n",
    "import shutil\n",
    "import fnmatch\n",
    "\n",
    "from datetime import datetime\n",
    "from pathlib import Path\n",
    "\n",
    "from astropy.io import ascii\n",
    "from astropy import units as u\n",
    "from astropy.visualization import quantity_support\n",
    "\n",
    "\n",
    "import pandas\n",
    "\n",
    "import numpy.polynomial.polynomial as poly\n",
    "\n",
    "\n",
    "from mpl_toolkits.axes_grid1.inset_locator import inset_axes\n",
    "import matplotlib.transforms as transforms\n",
    "from matplotlib.gridspec import GridSpec\n",
    "\n",
    "#import heasoftpy as hsp\n",
    "from RxLines import allcomplexes\n",
    "from RxLines import ScKa1_cmass, ScKa2_cmass, ScKb_cmass, VKa1_cmass, VKa2_cmass, VKb_cmass \n",
    "from RxLines import NiKa1_cmass, NiKa2_cmass, NiKb_cmass, ZnKa1_cmass,ZnKa2_cmass,ZnKb_cmass\n",
    "from RxLines import GeKa1_cmass, GeKa2_cmass, GeKb_cmass, CoKb_cmass, FeKb_cmass\n",
    "\n",
    "from getMaximaDensity import getMaximaDensity\n",
    "from fit3gauss2hist import fit3gauss2hist\n",
    "from gainScaleFit import gainScalePolyFit\n",
    "from fitVoigt2hist_err import fitVoigt2hist_err\n",
    "from fitVoigt2hist_err_noties import fitVoigt2hist_err_noties\n",
    "from fit_nvoigt_complex import fit_nvoigt_complex, plot_hist_nvoigt\n",
    "from commands import run_comm\n",
    "from clean_records import remove_invalid_records, remove_XT_from_DF, get_multipulse_records\n",
    "from annote import AnnoteFinder\n",
    "from correct_signal import correct_signal\n",
    "from correct_signal_unbiased import correct_signal_unbiased\n",
    "from idlines_cross import idlines_cross\n",
    "from idlines_cross_LargeT import idlines_cross_LargeT\n",
    "from compute_bsln_blocks import compute_bsln_blocks, smooth_data_in_blocks\n",
    "from fwhm import expected_std\n",
    "\n",
    "from numina.array.wavecalib.crosscorrelation import periodic_corr1d\n",
    "plt.rcParams.update({'font.size': 14})\n",
    "quantity_support()'''\n",
    "\n",
    "cwd = os.getcwd()\n",
    "tmpDir = tempfile.mkdtemp()\n",
    "os.environ[\"PFILES\"] = tmpDir + \":\" + os.environ[\"PFILES\"]\n",
    "os.environ[\"HEADASNOQUERY\"] = \"\"\n",
    "os.environ[\"HEADASPROMPT\"] = \"/dev/null/\""
   ]
  },
  {
   "cell_type": "code",
   "execution_count": 20,
   "id": "28b6ffbd",
   "metadata": {},
   "outputs": [],
   "source": [
    "#libraryRoot = \"library_prueba_COVARM1\"\n",
    "#libraryFile = libraryRoot + \".fits\"\n",
    "\n",
    "#libraryRoot = \"library1keV_PL4096_20000p\"\n",
    "#libraryFile = \"/dataj6SIRENA/ceballos/INSTRUMEN/EURECA/testHarness/simulations/SIXTE/LIBRARIES/tessimLPA2shunt_oldnoise/GLOBAL/ADC/noMatNoise/\" + libraryRoot + \".fits\"\n",
    "\n",
    "libraryRoot = \"library_COVARM_20000p_512\"\n",
    "libraryFile = \"/dataj6SIRENA/cobo/prueba/\" + libraryRoot + \".fits\""
   ]
  },
  {
   "cell_type": "markdown",
   "id": "0215f617",
   "metadata": {
    "papermill": {
     "duration": 0.129652,
     "end_time": "2023-07-14T08:31:40.603220",
     "exception": false,
     "start_time": "2023-07-14T08:31:40.473568",
     "status": "completed"
    },
    "tags": []
   },
   "source": [
    "# Read COVARM column"
   ]
  },
  {
   "cell_type": "code",
   "execution_count": 21,
   "id": "4a392a03",
   "metadata": {},
   "outputs": [
    {
     "name": "stdout",
     "output_type": "stream",
     "text": [
      "512\n",
      "259.7142535303167\n",
      "-4.1023981623605374\n"
     ]
    },
    {
     "data": {
      "image/png": "[encoded data removed]",
      "text/plain": [
       "<Figure size 864x720 with 2 Axes>"
      ]
     },
     "metadata": {
      "needs_background": "light"
     },
     "output_type": "display_data"
    }
   ],
   "source": [
    "file = fits.open(libraryFile, memmap=True)\n",
    "fileTab = file['LIBRARY'].data\n",
    "vectorCOVARM = fileTab['COVARM'] # COVARM is a column which stores covariance matrix nxn as a vector with nxn size\n",
    "sizeCOVARM = int(math.sqrt(vectorCOVARM[0].size))\n",
    "print(sizeCOVARM)\n",
    "file.close()\n",
    "\n",
    "# Vector conversion into a matrix nxn\n",
    "matrixCOVARM = vectorCOVARM.reshape((sizeCOVARM, sizeCOVARM))\n",
    "print(np.max(matrixCOVARM))\n",
    "print(np.min(matrixCOVARM))\n",
    "#for i, fila in enumerate(matrixCOVARM):\n",
    "#    if i==0:\n",
    "#        print(f\"Fila {i + 1}: {fila}\")\n",
    "\n",
    "# Plot\n",
    "fig = plt.figure(figsize=(12, 10))\n",
    "plt.imshow((matrixCOVARM), extent=[1, sizeCOVARM, 1, sizeCOVARM], origin='lower', cmap='viridis')  \n",
    "#plt.imshow(np.log10(matrixCOVARM), extent=[1, sizeCOVARM, 1, sizeCOVARM], origin='lower', cmap='viridis')  \n",
    "#plt.imshow(matrixCOVARM, extent=[1, sizeCOVARM, 1, sizeCOVARM], origin='lower', cmap='viridis', aspect='auto')  \n",
    "plt.colorbar(label='Covariance')  # Add colour bar as a reference\n",
    "plt.xlabel('Samples')\n",
    "plt.xlabel('Samples')\n",
    "\n",
    "# Define el rango de zoom que quieres en la diagonal (ejemplo: de 100 a 150 en ambos ejes)\n",
    "start_zoom = 90\n",
    "end_zoom = 150\n",
    "# Ajusta los límites de los ejes para hacer zoom en esa parte de la diagonal\n",
    "plt.xlim(start_zoom, end_zoom)\n",
    "plt.ylim(start_zoom, end_zoom)\n",
    "\n",
    "#plt.title('Covariance2D(' + str(sizeCOVARM) + ',preBuffer=y)')\n",
    "# Zoom available\n",
    "plt.gca().set_aspect('auto') \n",
    "plt.show()\n",
    "\n",
    "'''fila = matrixCOVARM[0, :]\n",
    "plt.plot(fila, marker='o', linestyle='-', color='b')  \n",
    "plt.xlabel('Samples')\n",
    "plt.ylabel('covariance')\n",
    "plt.show()'''\n",
    "\n",
    "fig.savefig(libraryRoot + '.png', dpi=fig.dpi)\n",
    "\n"
   ]
  },
  {
   "cell_type": "code",
   "execution_count": null,
   "id": "569505bc-cbe1-4a7c-a01d-9999ad5df556",
   "metadata": {},
   "outputs": [],
   "source": []
  }
 ],
 "metadata": {
  "kernelspec": {
   "display_name": "Python 3 (ipykernel)",
   "language": "python",
   "name": "python3"
  },
  "language_info": {
   "codemirror_mode": {
    "name": "ipython",
    "version": 3
   },
   "file_extension": ".py",
   "mimetype": "text/x-python",
   "name": "python",
   "nbconvert_exporter": "python",
   "pygments_lexer": "ipython3",
   "version": "3.9.7"
  },
  "papermill": {
   "default_parameters": {},
   "duration": 46.779999,
   "end_time": "2023-07-14T08:32:23.938023",
   "environment_variables": {},
   "exception": null,
   "input_path": "analysisGSFC_proc_automat.ipynb",
   "output_path": "output_10Jan_chan1_full_SN_XT2_F0B0_OPTFILT_xwidth201_ksmooth11.ipynb",
   "parameters": {
    "F0orB0": "F0B0",
    "TIMEcorr": "",
    "XT": 2,
    "channel": "1",
    "corr_xwidth": 201,
    "data": "10Jan",
    "fitwei": "SN",
    "han": "",
    "ksmooth": 11,
    "method": "OPTFILT",
    "mode": "full",
    "samplePhotons": 0,
    "smooth": "savgol2"
   },
   "start_time": "2023-07-14T08:31:37.158024",
   "version": "2.4.0"
  },
  "toc": {
   "base_numbering": 1,
   "nav_menu": {},
   "number_sections": true,
   "sideBar": true,
   "skip_h1_title": false,
   "title_cell": "Table of Contents",
   "title_sidebar": "Contents",
   "toc_cell": false,
   "toc_position": {
    "height": "calc(100% - 180px)",
    "left": "10px",
    "top": "150px",
    "width": "353.333px"
   },
   "toc_section_display": true,
   "toc_window_display": true
  },
  "toc-autonumbering": false,
  "toc-showcode": true,
  "toc-showmarkdowntxt": false,
  "toc-showtags": false,
  "varInspector": {
   "cols": {
    "lenName": 16,
    "lenType": 16,
    "lenVar": 40
   },
   "kernels_config": {
    "python": {
     "delete_cmd_postfix": "",
     "delete_cmd_prefix": "del ",
     "library": "var_list.py",
     "varRefreshCmd": "print(var_dic_list())"
    },
    "r": {
     "delete_cmd_postfix": ") ",
     "delete_cmd_prefix": "rm(",
     "library": "var_list.r",
     "varRefreshCmd": "cat(var_dic_list()) "
    }
   },
   "types_to_exclude": [
    "module",
    "function",
    "builtin_function_or_method",
    "instance",
    "_Feature"
   ],
   "window_display": false
  }
 },
 "nbformat": 4,
 "nbformat_minor": 5
}
